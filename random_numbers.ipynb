{
 "cells": [
  {
   "cell_type": "code",
   "execution_count": 3,
   "id": "3a920858",
   "metadata": {},
   "outputs": [],
   "source": [
    "# Import the random module.\n",
    "\n",
    "import random"
   ]
  },
  {
   "cell_type": "code",
   "execution_count": 7,
   "id": "5196681a",
   "metadata": {},
   "outputs": [
    {
     "data": {
      "text/plain": [
       "32"
      ]
     },
     "execution_count": 7,
     "metadata": {},
     "output_type": "execute_result"
    }
   ],
   "source": [
    "## tip: press tab after 'random.' to see a list of random module funtions\n",
    "\n",
    "random.randint(-90, 90)"
   ]
  },
  {
   "cell_type": "code",
   "execution_count": 8,
   "id": "a438b473",
   "metadata": {},
   "outputs": [
    {
     "data": {
      "text/plain": [
       "0.4834600608828875"
      ]
     },
     "execution_count": 8,
     "metadata": {},
     "output_type": "execute_result"
    }
   ],
   "source": [
    "random.random()"
   ]
  },
  {
   "cell_type": "code",
   "execution_count": 10,
   "id": "51357a7d",
   "metadata": {},
   "outputs": [
    {
     "data": {
      "text/plain": [
       "[-54.612354658491675,\n",
       " -13.793938895377986,\n",
       " -55.259276733239275,\n",
       " -87.83655536106524,\n",
       " -41.7554556823253,\n",
       " -35.29057263082399,\n",
       " 19.038965014837537,\n",
       " -64.97948053884828,\n",
       " 68.04828386958886,\n",
       " 48.052953456777274]"
      ]
     },
     "execution_count": 10,
     "metadata": {},
     "output_type": "execute_result"
    }
   ],
   "source": [
    "x = 1\n",
    "latitudes = []\n",
    "while x < 11:\n",
    "    random_lat = random.randint(-90, 89) + random.random()\n",
    "    latitudes.append(random_lat)\n",
    "    x += 1\n",
    "    \n",
    "latitudes"
   ]
  },
  {
   "cell_type": "code",
   "execution_count": 11,
   "id": "2bf7c0ca",
   "metadata": {},
   "outputs": [
    {
     "data": {
      "text/plain": [
       "-3"
      ]
     },
     "execution_count": 11,
     "metadata": {},
     "output_type": "execute_result"
    }
   ],
   "source": [
    "#### If you don't add the step parameter, the output will be a number with an increment of 1, which is the default integer value.\n",
    "\n",
    "random.randrange(-90, 90, step=1)"
   ]
  },
  {
   "cell_type": "code",
   "execution_count": 12,
   "id": "603ff495",
   "metadata": {},
   "outputs": [
    {
     "data": {
      "text/plain": [
       "-30"
      ]
     },
     "execution_count": 12,
     "metadata": {},
     "output_type": "execute_result"
    }
   ],
   "source": [
    "random.randrange(-90, 90, step=3)"
   ]
  },
  {
   "cell_type": "code",
   "execution_count": 14,
   "id": "52789835",
   "metadata": {},
   "outputs": [
    {
     "data": {
      "text/plain": [
       "26.62591129559148"
      ]
     },
     "execution_count": 14,
     "metadata": {},
     "output_type": "execute_result"
    }
   ],
   "source": [
    "#### The uniform() function could prove to be quite useful because it will return a floating-point decimal number\n",
    "\n",
    "random.uniform(-90, 90)"
   ]
  },
  {
   "cell_type": "code",
   "execution_count": 15,
   "id": "43a723f3",
   "metadata": {},
   "outputs": [],
   "source": [
    "#### Recall that the NumPy module is a numerical mathematics library that can be used to make arrays or matrices of numbers.\n",
    "\n",
    "# Import the NumPy module.\n",
    "\n",
    "import numpy as np"
   ]
  },
  {
   "cell_type": "code",
   "execution_count": 17,
   "id": "ae71258a",
   "metadata": {},
   "outputs": [
    {
     "data": {
      "text/plain": [
       "60.05130721554289"
      ]
     },
     "execution_count": 17,
     "metadata": {},
     "output_type": "execute_result"
    }
   ],
   "source": [
    "np.random.uniform(-90.000, 90.000)        # the extra zeros are optional"
   ]
  },
  {
   "cell_type": "code",
   "execution_count": 18,
   "id": "e274760f",
   "metadata": {},
   "outputs": [
    {
     "data": {
      "text/plain": [
       "-11.62022240577079"
      ]
     },
     "execution_count": 18,
     "metadata": {},
     "output_type": "execute_result"
    }
   ],
   "source": [
    "## another option to write it as:\n",
    "\n",
    "np.random.uniform(low=-90, high=90)"
   ]
  },
  {
   "cell_type": "code",
   "execution_count": 19,
   "id": "d532055b",
   "metadata": {},
   "outputs": [
    {
     "data": {
      "text/plain": [
       "array([ 13.98921143, -69.06667887, -74.59018991, -79.41482329,\n",
       "        88.02523285,  43.15912371,  61.63058618,  61.94018891,\n",
       "       -59.78106006, -88.08475137,  12.02540181,  35.55394686,\n",
       "       -72.10421743,  78.44904329,  12.33018374,  -9.39888577,\n",
       "        70.20417685, -78.67243287, -26.79326934, -71.21910948,\n",
       "       -74.51581925,   2.22156016,  22.2797218 , -35.85480783,\n",
       "       -56.79688594,  36.99950248,  89.18641012,  46.4051567 ,\n",
       "       -65.907414  ,  37.95493278,  61.91244238,  33.06224881,\n",
       "        -1.78351396, -11.46580583,  -5.80005451, -59.40575786,\n",
       "        -0.76461601, -73.18119118,  85.71943998,  48.58975264,\n",
       "       -50.07900647,   5.42648465,  31.58650167,  36.84284923,\n",
       "        41.66534396,  49.54220168,  49.39548021,  43.19076476,\n",
       "       -28.31410025,  66.12772316])"
      ]
     },
     "execution_count": 19,
     "metadata": {},
     "output_type": "execute_result"
    }
   ],
   "source": [
    "np.random.uniform(-90.000, 90.000, size=50)"
   ]
  },
  {
   "cell_type": "code",
   "execution_count": 20,
   "id": "fb43a3d1",
   "metadata": {},
   "outputs": [],
   "source": [
    "# Import timeit.\n",
    "\n",
    "import timeit"
   ]
  },
  {
   "cell_type": "code",
   "execution_count": 21,
   "id": "3a7abc41",
   "metadata": {},
   "outputs": [
    {
     "name": "stdout",
     "output_type": "stream",
     "text": [
      "12.7 µs ± 158 ns per loop (mean ± std. dev. of 7 runs, 100000 loops each)\n"
     ]
    }
   ],
   "source": [
    "%timeit np.random.uniform(-90.000, 90.000, size=1500)"
   ]
  },
  {
   "cell_type": "code",
   "execution_count": 22,
   "id": "6066e6a4",
   "metadata": {},
   "outputs": [
    {
     "name": "stdout",
     "output_type": "stream",
     "text": [
      "1.59 ms ± 38.2 µs per loop (mean ± std. dev. of 7 runs, 1000 loops each)\n"
     ]
    }
   ],
   "source": [
    "def latitudes(size):\n",
    "    latitudes = []\n",
    "    x = 0\n",
    "    while x < (size):\n",
    "        random_lat = random.randint(-90, 90) + random.random()\n",
    "        latitudes.append(random_lat)\n",
    "        x += 1\n",
    "    return latitudes\n",
    "# Call the function with 1500.\n",
    "%timeit latitudes(1500)"
   ]
  },
  {
   "cell_type": "code",
   "execution_count": null,
   "id": "53567242",
   "metadata": {},
   "outputs": [],
   "source": []
  }
 ],
 "metadata": {
  "kernelspec": {
   "display_name": "PythonData",
   "language": "python",
   "name": "pythondata"
  },
  "language_info": {
   "codemirror_mode": {
    "name": "ipython",
    "version": 3
   },
   "file_extension": ".py",
   "mimetype": "text/x-python",
   "name": "python",
   "nbconvert_exporter": "python",
   "pygments_lexer": "ipython3",
   "version": "3.7.11"
  }
 },
 "nbformat": 4,
 "nbformat_minor": 5
}
